{
 "cells": [
  {
   "cell_type": "markdown",
   "source": [
    "# Knowledge Drift Experiment\n",
    "- Knowledge drift appears when time progresses and more data is available to be shared with peers.\n",
    "- Ideally, every node in the network will constantly receive the same time slice throughout continued use of the network."
   ],
   "metadata": {
    "collapsed": false
   }
  },
  {
   "cell_type": "code",
   "execution_count": 1,
   "metadata": {
    "collapsed": true,
    "pycharm": {
     "name": "#%%\n"
    }
   },
   "outputs": [],
   "source": [
    "from core.network import *\n",
    "from core.config import config\n",
    "config[\"enumerate_nodes\"] = True"
   ]
  },
  {
   "cell_type": "markdown",
   "source": [
    "## Simulating steady network growth\n",
    "- The worst case for knowledge drift is a constant amount of nodes over a long period of time.\n",
    "- A growing network will distribute progressively smaller slices over all nodes."
   ],
   "metadata": {
    "collapsed": false
   }
  },
  {
   "cell_type": "code",
   "execution_count": 2,
   "outputs": [],
   "source": [
    "def simulate_steady_growth(net: Network, days: int, growth_rate: float = 1.0):\n",
    "    dataset = net.get_all_dataset_names()[0]\n",
    "    net.distribute_series(dataset)\n",
    "    net.allocate_dataframes(net.start_date, net.current_date + timedelta(days))\n",
    "    for i in range(days):\n",
    "        if i % 30 == 29:\n",
    "            print(f\"Iterated {i+1} days with {len(net.nodes)} nodes...\")\n",
    "        if growth_rate <= 1:\n",
    "            if i % (1 / growth_rate) < 1:\n",
    "                net.create_nodes(1, 1)\n",
    "        else:\n",
    "            if i % growth_rate <= 1:\n",
    "                net.create_nodes(np.floor(growth_rate) + 1, 1)\n",
    "            else:\n",
    "                net.create_nodes(np.floor(growth_rate), 1)\n",
    "        net.tick()\n",
    "        net.distribute_series(dataset)\n",
    "    net.print_statistics(dataset)\n",
    "    net.print_dataset_intervals(dataset)\n",
    "    net.print_dataset_distribution(dataset)"
   ],
   "metadata": {
    "collapsed": false,
    "pycharm": {
     "name": "#%%\n"
    }
   }
  },
  {
   "cell_type": "markdown",
   "source": [
    "### Execute simulation\n",
    "- `nodes_cnt`: Initial amount of nodes in the network\n",
    "- `tree_type`: Tree building algorithm for interval distribution\n",
    "- `growth_rate`: How many nodes per day are added (**TODO**: May be replaced by a schedule/array)"
   ],
   "metadata": {
    "collapsed": false
   }
  },
  {
   "cell_type": "code",
   "execution_count": 5,
   "outputs": [
    {
     "name": "stdout",
     "output_type": "stream",
     "text": [
      "Iterated 30 days with 8 nodes...\n",
      "Iterated 60 days with 11 nodes...\n",
      "\n",
      "Total nodes: 11\n",
      "Total slices: 91\n",
      "Minimum amount of ticks observed:  9.00 of 91 ( 9.9 %)\n",
      "Average amount of ticks observed:  28.73 of 91 ( 31.6 %)\n",
      "Maximum amount of ticks observed:  55.00 of 91 ( 60.4 %)\n",
      "\n",
      "Printing intervals of dataset 4-1\n",
      "[2022-06-11]------------▒▒▒▒▒▒▒▒▒▒▒▒▒▒▒▒▒▒▒▒▒▒▒▒▒▒▒▒▒█████████-----------------------------------------[2022-09-09] -> 0\n",
      "[2022-06-11]------▒▒▒▒▒▒▒▒▒▒▒████████------------------------------------------------------------------[2022-09-09] -> 1\n",
      "[2022-06-11]------------------------▒▒▒▒▒▒▒▒▒▒▒▒▒▒▒▒▒▒▒▒▒▒▒▒▒▒▒▒▒▒▒▒▒▒▒▒▒▒▒▒▒▒████████-----------------[2022-09-09] -> 2\n",
      "[2022-06-11]▒▒▒▒▒▒▒▒▒████████--------------------------------------------------------------------------[2022-09-09] -> 3\n",
      "[2022-06-11]------------------▒▒▒▒▒▒▒▒▒▒▒▒▒▒▒▒▒▒▒▒▒▒▒▒▒▒▒▒▒▒▒▒▒▒▒▒▒▒▒▒████████-------------------------[2022-09-09] -> 4\n",
      "[2022-06-11]-----------▒▒▒▒▒▒▒▒▒▒▒▒▒▒▒▒▒▒▒▒▒▒████████--------------------------------------------------[2022-09-09] -> 5\n",
      "[2022-06-11]------------------------------------▒▒▒▒▒▒▒▒▒▒▒▒▒▒▒▒▒▒▒▒▒▒▒▒▒▒▒▒▒▒▒▒▒▒▒▒▒▒▒▒▒▒▒▒▒▒█████████[2022-09-09] -> 6\n",
      "[2022-06-11]█████████----------------------------------------------------------------------------------[2022-09-09] -> 7\n",
      "[2022-06-11]----------------------------------▒▒▒▒▒▒▒▒▒▒▒▒▒▒▒▒████████---------------------------------[2022-09-09] -> 8\n",
      "[2022-06-11]----------------------▒▒▒████████----------------------------------------------------------[2022-09-09] -> 9\n",
      "[2022-06-11]-------------------------------------------------------------------▒▒▒▒▒▒▒████████---------[2022-09-09] -> 10\n",
      "\n",
      "Printing distribution of dataset 4-1\n",
      "[2022-06-11]                        █           █████                                                  [2022-09-09] -> 6 copies\n",
      "[2022-06-11]                      ███████████ ████████████████                                         [2022-09-09] -> 5 copies\n",
      "[2022-06-11]            █████ ████████████████████████████████████████                                 [2022-09-09] -> 4 copies\n",
      "[2022-06-11]      ███  ███████████████████████████████████████████████████████ ███████                 [2022-09-09] -> 3 copies\n",
      "[2022-06-11]██████████████████████████████████████████████████████████████████████████████████         [2022-09-09] -> 2 copies\n",
      "[2022-06-11]███████████████████████████████████████████████████████████████████████████████████████████[2022-09-09] -> 1 copies\n"
     ]
    }
   ],
   "source": [
    "network = create_network(nodes_cnt=5, days_of_data=30, tree_type=TreeType.balanced_ltor)\n",
    "simulate_steady_growth(network, days=60, growth_rate=0.1)"
   ],
   "metadata": {
    "collapsed": false,
    "pycharm": {
     "name": "#%%\n"
    }
   }
  },
  {
   "cell_type": "markdown",
   "source": [],
   "metadata": {
    "collapsed": false
   }
  }
 ],
 "metadata": {
  "kernelspec": {
   "display_name": "Python 3",
   "language": "python",
   "name": "python3"
  },
  "language_info": {
   "codemirror_mode": {
    "name": "ipython",
    "version": 2
   },
   "file_extension": ".py",
   "mimetype": "text/x-python",
   "name": "python",
   "nbconvert_exporter": "python",
   "pygments_lexer": "ipython2",
   "version": "2.7.6"
  }
 },
 "nbformat": 4,
 "nbformat_minor": 0
}