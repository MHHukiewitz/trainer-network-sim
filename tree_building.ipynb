{
 "cells": [
  {
   "cell_type": "code",
   "execution_count": null,
   "metadata": {
    "collapsed": true
   },
   "outputs": [],
   "source": [
    "from IPython.core.display_functions import clear_output\n",
    "\n",
    "from core.network import *\n",
    "from core.config import config\n",
    "config[\"enumerate_nodes\"] = True"
   ]
  },
  {
   "cell_type": "code",
   "execution_count": 2,
   "outputs": [],
   "source": [
    "from time import sleep\n",
    "\n",
    "def visualize_tree_building(items: int, tree_type: TreeType):\n",
    "    for i in range(1, items + 1):\n",
    "        net = create_network(i, days_of_data=1, tree_type=tree_type)\n",
    "        print(net.tree)\n",
    "        clear_output(wait=True)\n",
    "        sleep(1)"
   ],
   "metadata": {
    "collapsed": false,
    "pycharm": {
     "name": "#%%\n"
    }
   }
  },
  {
   "cell_type": "markdown",
   "source": [
    "# Breadth-first tree construction\n",
    "## Left-to-right"
   ],
   "metadata": {
    "collapsed": false,
    "pycharm": {
     "name": "#%% md\n"
    }
   }
  },
  {
   "cell_type": "code",
   "execution_count": 3,
   "outputs": [
    {
     "name": "stdout",
     "output_type": "stream",
     "text": [
      "\n",
      "                               _________________190_____________\n",
      "                              /                                 \\\n",
      "               _____________191_________                   _____192_____\n",
      "              /                         \\                 /             \\\n",
      "       _____193_____                   _194_           _195_           _196_\n",
      "      /             \\                 /     \\         /     \\         /     \\\n",
      "   _197_           _198_           _199     200     201     202     203     204\n",
      "  /     \\         /     \\         /\n",
      "205     206     207     208     209\n",
      "\n"
     ]
    }
   ],
   "source": [
    "visualize_tree_building(20, TreeType.ordered_ltor)"
   ],
   "metadata": {
    "collapsed": false,
    "pycharm": {
     "name": "#%%\n"
    }
   }
  },
  {
   "cell_type": "markdown",
   "source": [
    "## Right-to-left"
   ],
   "metadata": {
    "collapsed": false,
    "pycharm": {
     "name": "#%% md\n"
    }
   }
  },
  {
   "cell_type": "code",
   "execution_count": 4,
   "outputs": [
    {
     "name": "stdout",
     "output_type": "stream",
     "text": [
      "\n",
      "               _____________400_________________\n",
      "              /                                 \\\n",
      "       _____402_____                   _________401_____________\n",
      "      /             \\                 /                         \\\n",
      "   _406_           _405_           _404_                   _____403_____\n",
      "  /     \\         /     \\         /     \\                 /             \\\n",
      "414     413     412     411     410     409_           _408_           _407_\n",
      "                                            \\         /     \\         /     \\\n",
      "                                            419     418     417     416     415\n",
      "\n"
     ]
    }
   ],
   "source": [
    "visualize_tree_building(20, TreeType.ordered_rtol)"
   ],
   "metadata": {
    "collapsed": false,
    "pycharm": {
     "name": "#%%\n"
    }
   }
  },
  {
   "cell_type": "markdown",
   "source": [
    "# Balanced tree construction\n",
    "## Prefer left branch on equality"
   ],
   "metadata": {
    "collapsed": false,
    "pycharm": {
     "name": "#%% md\n"
    }
   }
  },
  {
   "cell_type": "code",
   "execution_count": 5,
   "outputs": [
    {
     "name": "stdout",
     "output_type": "stream",
     "text": [
      "\n",
      "                       _____________________610_________________\n",
      "                      /                                         \\\n",
      "           _________611_________                           _____612_____\n",
      "          /                     \\                         /             \\\n",
      "       _613_____               _615_____               _614_           _616_\n",
      "      /         \\             /         \\             /     \\         /     \\\n",
      "   _617        _621        _619        _623        _618     622     620     624\n",
      "  /           /           /           /           /\n",
      "625         628         627         629         626\n",
      "\n"
     ]
    }
   ],
   "source": [
    "visualize_tree_building(20, TreeType.balanced_ltor)"
   ],
   "metadata": {
    "collapsed": false,
    "pycharm": {
     "name": "#%%\n"
    }
   }
  },
  {
   "cell_type": "markdown",
   "source": [
    "## Prefer right branch on equality\n",
    "*TODO*: Better balancing/spacing out of leaves (having one leaf for every node in the second-to-last layer)."
   ],
   "metadata": {
    "collapsed": false,
    "pycharm": {
     "name": "#%% md\n"
    }
   }
  },
  {
   "cell_type": "code",
   "execution_count": 6,
   "outputs": [
    {
     "name": "stdout",
     "output_type": "stream",
     "text": [
      "\n",
      "               _________________820_____________________\n",
      "              /                                         \\\n",
      "       _____822_____                           _________821_________\n",
      "      /             \\                         /                     \\\n",
      "   _826_           _824_               _____825_               _____823_\n",
      "  /     \\         /     \\             /         \\             /         \\\n",
      "834     830     832     828_        833_        829_        831_        827_\n",
      "                            \\           \\           \\           \\           \\\n",
      "                            836         839         837         838         835\n",
      "\n"
     ]
    }
   ],
   "source": [
    "visualize_tree_building(20, TreeType.balanced_rtol)"
   ],
   "metadata": {
    "collapsed": false,
    "pycharm": {
     "name": "#%%\n"
    }
   }
  },
  {
   "cell_type": "markdown",
   "source": [
    "## Choose random branch on equality\n",
    "*TODO*: Do not rebuild tree from scratch when node is added. This forgets previous random choices."
   ],
   "metadata": {
    "collapsed": false,
    "pycharm": {
     "name": "#%% md\n"
    }
   }
  },
  {
   "cell_type": "code",
   "execution_count": 7,
   "outputs": [
    {
     "name": "stdout",
     "output_type": "stream",
     "text": [
      "\n",
      "                  ______________________1030__________________________\n",
      "                 /                                                    \\\n",
      "        _______1032______                                 ____________1031___________\n",
      "       /                 \\                               /                           \\\n",
      "   __1036_             __1034_                  _______1035_                  _______1033_\n",
      "  /       \\           /       \\                /            \\                /            \\\n",
      "1044      1040      1042      1038_          1043_          1039_          1041_          1037_\n",
      "                                   \\              \\              \\              \\              \\\n",
      "                                   1046           1049           1047           1048           1045\n",
      "\n"
     ]
    }
   ],
   "source": [
    "visualize_tree_building(20, TreeType.balanced_random)"
   ],
   "metadata": {
    "collapsed": false,
    "pycharm": {
     "name": "#%%\n"
    }
   }
  }
 ],
 "metadata": {
  "kernelspec": {
   "display_name": "Python 3",
   "language": "python",
   "name": "python3"
  },
  "language_info": {
   "codemirror_mode": {
    "name": "ipython",
    "version": 2
   },
   "file_extension": ".py",
   "mimetype": "text/x-python",
   "name": "python",
   "nbconvert_exporter": "python",
   "pygments_lexer": "ipython2",
   "version": "2.7.6"
  }
 },
 "nbformat": 4,
 "nbformat_minor": 0
}