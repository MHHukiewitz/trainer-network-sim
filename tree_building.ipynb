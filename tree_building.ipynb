{
 "cells": [
  {
   "cell_type": "code",
   "execution_count": 1,
   "metadata": {
    "collapsed": true
   },
   "outputs": [],
   "source": [
    "from IPython.core.display_functions import clear_output\n",
    "\n",
    "from core.network import *\n",
    "import graphviz\n",
    "from core.node import *\n",
    "from core.data import *\n",
    "from core.config import config\n",
    "config[\"enumerate_nodes\"] = True"
   ]
  },
  {
   "cell_type": "code",
   "execution_count": 2,
   "outputs": [],
   "source": [
    "from time import sleep\n",
    "\n",
    "def visualize_tree_building(items: int, tree_type: TreeType):\n",
    "    graphs = []\n",
    "    for i in range(1, items + 1):\n",
    "        net = create_network(i, days_of_data=1, tree_type=tree_type)\n",
    "        print(net.tree)\n",
    "        clear_output(wait=True)\n",
    "        sleep(1)\n"
   ],
   "metadata": {
    "collapsed": false,
    "pycharm": {
     "name": "#%%\n"
    }
   }
  },
  {
   "cell_type": "code",
   "execution_count": 3,
   "outputs": [
    {
     "name": "stdout",
     "output_type": "stream",
     "text": [
      "\n",
      "                       _____________________190_________________\n",
      "                      /                                         \\\n",
      "           _________191_________                           _____192_____\n",
      "          /                     \\                         /             \\\n",
      "       _193_____               _195_____               _194_           _196_\n",
      "      /         \\             /         \\             /     \\         /     \\\n",
      "   _197        _201        _199        _203        _198     202     200     204\n",
      "  /           /           /           /           /\n",
      "205         208         207         209         206\n",
      "\n"
     ]
    }
   ],
   "source": [
    "visualize_tree_building(20, TreeType.balanced_ltor)"
   ],
   "metadata": {
    "collapsed": false,
    "pycharm": {
     "name": "#%%\n"
    }
   }
  },
  {
   "cell_type": "code",
   "execution_count": null,
   "outputs": [],
   "source": [],
   "metadata": {
    "collapsed": false,
    "pycharm": {
     "name": "#%%\n"
    }
   }
  }
 ],
 "metadata": {
  "kernelspec": {
   "display_name": "Python 3",
   "language": "python",
   "name": "python3"
  },
  "language_info": {
   "codemirror_mode": {
    "name": "ipython",
    "version": 2
   },
   "file_extension": ".py",
   "mimetype": "text/x-python",
   "name": "python",
   "nbconvert_exporter": "python",
   "pygments_lexer": "ipython2",
   "version": "2.7.6"
  }
 },
 "nbformat": 4,
 "nbformat_minor": 0
}